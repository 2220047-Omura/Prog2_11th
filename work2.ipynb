{
  "nbformat": 4,
  "nbformat_minor": 0,
  "metadata": {
    "colab": {
      "provenance": [],
      "authorship_tag": "ABX9TyMI4jOsFfcfhoQcAkABaJqJ",
      "include_colab_link": true
    },
    "kernelspec": {
      "name": "python3",
      "display_name": "Python 3"
    },
    "language_info": {
      "name": "python"
    }
  },
  "cells": [
    {
      "cell_type": "markdown",
      "metadata": {
        "id": "view-in-github",
        "colab_type": "text"
      },
      "source": [
        "<a href=\"https://colab.research.google.com/github/IWM-S/Prog2_11th/blob/main/work2.ipynb\" target=\"_parent\"><img src=\"https://colab.research.google.com/assets/colab-badge.svg\" alt=\"Open In Colab\"/></a>"
      ]
    },
    {
      "cell_type": "markdown",
      "source": [
        "numpy\n",
        "\n",
        "(候補)\n",
        "\n",
        "・行列をランダムに生成して画像にする→重ね合わせと\n",
        "  行列をランダムに生成した和を画像にして違いを検証する\n",
        "\n",
        "・URLからNCS(NoCopyrightSounds)の音楽をDLして波形データや累積和(いらない希ガス)などを描画。もしくはYouTubeでも(NCSに限定？)IPythonでサビだけ少しだけ再生するのもありか\n",
        "\n",
        "・"
      ],
      "metadata": {
        "id": "RngWOF2a56e4"
      }
    },
    {
      "cell_type": "code",
      "execution_count": null,
      "metadata": {
        "id": "XZWucQXw53mv"
      },
      "outputs": [],
      "source": []
    }
  ]
}